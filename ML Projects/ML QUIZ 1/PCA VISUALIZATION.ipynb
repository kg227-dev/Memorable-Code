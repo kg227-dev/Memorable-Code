{
 "cells": [
  {
   "cell_type": "code",
   "execution_count": 13,
   "metadata": {},
   "outputs": [],
   "source": [
    "import pandas as pd\n",
    "import matplotlib\n",
    "import matplotlib.pyplot as plt\n",
    "import numpy as np\n",
    "import seaborn as sns\n",
    "from sklearn.model_selection import train_test_split \n",
    "\n",
    "from sklearn.preprocessing import StandardScaler\n",
    "dataset = 'small_partial.csv'\n",
    "df = pd.read_csv(dataset)\n",
    "dataset = df\n",
    "\n",
    "\n",
    "#all values chosen \n",
    "#vals = \"incumbent,primary_margin,general_margin,presidential_vote,presidential_margin,tenure_at_beginning_of_term,party,hr,t0,t1,t2,t3,t4,t5,t6,t7,t8,t9,t10,t11,t12,t13,t14,t15,t16,t17,t18,t19,t20,t21,t22,t23,t24,t25,t26,t27,t28,t29,t30,t31,t32,t33,t34,t35,t36,t37,t38,t39,t40,t41,t42,t43,t44,t45,t46,t47,t48,t49,appropriations,smallbusiness,budget,armedservices,foreignaffairs,oversightandgovernmentreform,naturalresources,educationandtheworkforce,rules,intelligence,houseadministration,transportationandinfrastructure,judiciary,energyandcommerce,homelandsecurity,veteransaffairs,financialservices,waysandmeans,sciencespaceandtechnology,agriculture,dwnom1,dwnom2,ideo5,un\"\n",
    "\n",
    "\n",
    "vals = ['t'+str(x) for x in range(50)]\n",
    "X = df[vals]\n",
    "\n",
    "#splits data into train and test\n",
    "#predictors\n",
    "X = df[vals].values\n",
    "\n",
    "#target variable\n",
    "y = df['vote'].values\n",
    "X_train, X_test, y_train, y_test = train_test_split(X, y, test_size=0.2, random_state=0)\n",
    "\n",
    "scaler = StandardScaler()\n",
    "# Fit on training set only.\n",
    "scaler.fit(X_train)\n",
    "# Apply transform to both the training set and the test set.\n",
    "X_train = scaler.transform(X_train)\n",
    "X_test = scaler.transform(X_test)\n",
    "\n",
    "from sklearn.decomposition import PCA\n",
    "pca = PCA(n_components=5)\n",
    "principalComponents = pca.fit_transform(X)\n",
    "\n",
    "\n",
    "#PCA1 is at 0 in xscale\n",
    "\n"
   ]
  },
  {
   "cell_type": "code",
   "execution_count": null,
   "metadata": {},
   "outputs": [],
   "source": [
    "ax = sns.heatmap(pca.components_,\n",
    "                 cmap='YlGnBu',\n",
    "                 yticklabels=[ str(x) for x in range(1,pca.n_components_+1)],\n",
    "                 xticklabels=list(vals),\n",
    "                 cbar_kws={\"orientation\": \"horizontal\"})\n",
    "\n",
    "ax.set_aspect(\"equal\")\n",
    "\n",
    "plt.rcParams[\"figure.figsize\"] = [20,20]\n",
    "plt.scatter(X_train[:,0], X_train[:,1])\n",
    "\n",
    "plt.scatter(X_test[:, 0], X_test[:, 1])"
   ]
  },
  {
   "cell_type": "code",
   "execution_count": null,
   "metadata": {},
   "outputs": [],
   "source": []
  }
 ],
 "metadata": {
  "kernelspec": {
   "display_name": "Python 3",
   "language": "python",
   "name": "python3"
  },
  "language_info": {
   "codemirror_mode": {
    "name": "ipython",
    "version": 3
   },
   "file_extension": ".py",
   "mimetype": "text/x-python",
   "name": "python",
   "nbconvert_exporter": "python",
   "pygments_lexer": "ipython3",
   "version": "3.7.0"
  }
 },
 "nbformat": 4,
 "nbformat_minor": 2
}
